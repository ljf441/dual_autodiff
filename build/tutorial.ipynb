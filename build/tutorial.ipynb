{
 "cells": [
  {
   "cell_type": "markdown",
   "metadata": {},
   "source": [
    "# dual_autodiff Tutorial"
   ]
  },
  {
   "cell_type": "code",
   "execution_count": 1,
   "metadata": {
    "execution": {
     "iopub.execute_input": "2024-12-14T20:11:05.107095Z",
     "iopub.status.busy": "2024-12-14T20:11:05.106848Z",
     "iopub.status.idle": "2024-12-14T20:11:05.525338Z",
     "shell.execute_reply": "2024-12-14T20:11:05.524647Z"
    }
   },
   "outputs": [],
   "source": [
    "# import modules\n",
    "\n",
    "import dual_autodiff as df\n",
    "import numpy as np\n",
    "import matplotlib.pyplot as plt"
   ]
  },
  {
   "cell_type": "code",
   "execution_count": 2,
   "metadata": {
    "execution": {
     "iopub.execute_input": "2024-12-14T20:11:05.527225Z",
     "iopub.status.busy": "2024-12-14T20:11:05.527003Z",
     "iopub.status.idle": "2024-12-14T20:11:05.530437Z",
     "shell.execute_reply": "2024-12-14T20:11:05.529925Z"
    }
   },
   "outputs": [
    {
     "name": "stdout",
     "output_type": "stream",
     "text": [
      "x.real = 2, x.dual = 1\n"
     ]
    }
   ],
   "source": [
    "# initialise dual number\n",
    "x = df.Dual(2, 1)\n",
    "print(f\"x.real = {x.real}, x.dual = {x.dual}\")"
   ]
  },
  {
   "cell_type": "code",
   "execution_count": 3,
   "metadata": {
    "execution": {
     "iopub.execute_input": "2024-12-14T20:11:05.553655Z",
     "iopub.status.busy": "2024-12-14T20:11:05.553395Z",
     "iopub.status.idle": "2024-12-14T20:11:05.556987Z",
     "shell.execute_reply": "2024-12-14T20:11:05.556566Z"
    }
   },
   "outputs": [
    {
     "name": "stdout",
     "output_type": "stream",
     "text": [
      "Dual(real=2, dual=1)\n"
     ]
    }
   ],
   "source": [
    "# printing dual number\n",
    "print(x)"
   ]
  },
  {
   "cell_type": "code",
   "execution_count": 4,
   "metadata": {
    "execution": {
     "iopub.execute_input": "2024-12-14T20:11:05.558804Z",
     "iopub.status.busy": "2024-12-14T20:11:05.558548Z",
     "iopub.status.idle": "2024-12-14T20:11:05.561706Z",
     "shell.execute_reply": "2024-12-14T20:11:05.561159Z"
    }
   },
   "outputs": [
    {
     "name": "stdout",
     "output_type": "stream",
     "text": [
      "x + y = Dual(real=5, dual=3)\n",
      "x - y = Dual(real=-1, dual=-1)\n",
      "x * y = Dual(real=6, dual=7)\n",
      "x / y = Dual(real=0.6666666666666666, dual=-0.25)\n"
     ]
    }
   ],
   "source": [
    "# basic arithmetic operations\n",
    "\n",
    "x = df.Dual(2, 1)\n",
    "y = df.Dual(3, 2)\n",
    "\n",
    "print(f\"x + y = {x + y}\")\n",
    "print(f\"x - y = {x - y}\")\n",
    "print(f\"x * y = {x * y}\")\n",
    "print(f\"x / y = {x / y}\")"
   ]
  },
  {
   "cell_type": "code",
   "execution_count": 5,
   "metadata": {
    "execution": {
     "iopub.execute_input": "2024-12-14T20:11:05.562937Z",
     "iopub.status.busy": "2024-12-14T20:11:05.562678Z",
     "iopub.status.idle": "2024-12-14T20:11:05.566223Z",
     "shell.execute_reply": "2024-12-14T20:11:05.565740Z"
    }
   },
   "outputs": [
    {
     "name": "stdout",
     "output_type": "stream",
     "text": [
      "sin(x) = Dual(real=0.9092974268256817, dual=-0.4161468365471424)\n",
      "cos(x) = Dual(real=-0.4161468365471424, dual=-0.9092974268256817)\n",
      "tan(x) = Dual(real=-2.185039863261519, dual=5.774399204041917)\n"
     ]
    }
   ],
   "source": [
    "# trigonometric operations\n",
    "\n",
    "print(f\"sin(x) = {x.sin()}\")\n",
    "print(f\"cos(x) = {x.cos()}\")\n",
    "print(f\"tan(x) = {x.tan()}\")"
   ]
  },
  {
   "cell_type": "code",
   "execution_count": 6,
   "metadata": {
    "execution": {
     "iopub.execute_input": "2024-12-14T20:11:05.567697Z",
     "iopub.status.busy": "2024-12-14T20:11:05.567502Z",
     "iopub.status.idle": "2024-12-14T20:11:05.570254Z",
     "shell.execute_reply": "2024-12-14T20:11:05.569866Z"
    }
   },
   "outputs": [
    {
     "name": "stdout",
     "output_type": "stream",
     "text": [
      "log(x) = Dual(real=0.6931471805599453, dual=0.5)\n",
      "exp(x) = Dual(real=7.38905609893065, dual=7.38905609893065)\n"
     ]
    }
   ],
   "source": [
    "# the natural logarithm and exponential\n",
    "\n",
    "print(f\"log(x) = {x.log()}\")\n",
    "print(f\"exp(x) = {x.exp()}\")"
   ]
  },
  {
   "cell_type": "code",
   "execution_count": 7,
   "metadata": {
    "execution": {
     "iopub.execute_input": "2024-12-14T20:11:05.571789Z",
     "iopub.status.busy": "2024-12-14T20:11:05.571491Z",
     "iopub.status.idle": "2024-12-14T20:11:05.574243Z",
     "shell.execute_reply": "2024-12-14T20:11:05.573667Z"
    }
   },
   "outputs": [
    {
     "name": "stdout",
     "output_type": "stream",
     "text": [
      "x**y = Dual(real=8, dual=35.090354888959126)\n"
     ]
    }
   ],
   "source": [
    "# powers\n",
    "\n",
    "print(f\"x**y = {x**y}\")"
   ]
  },
  {
   "cell_type": "code",
   "execution_count": 8,
   "metadata": {
    "execution": {
     "iopub.execute_input": "2024-12-14T20:11:05.575822Z",
     "iopub.status.busy": "2024-12-14T20:11:05.575601Z",
     "iopub.status.idle": "2024-12-14T20:11:05.579011Z",
     "shell.execute_reply": "2024-12-14T20:11:05.578493Z"
    }
   },
   "outputs": [
    {
     "name": "stdout",
     "output_type": "stream",
     "text": [
      "log(sin(x)) + x^2 cos(x) = 0.15665054756073515\n",
      "d/dx(log(sin(x)) + x^2 cos(x)) = -1.9612372705533612\n"
     ]
    }
   ],
   "source": [
    "# automatic differentiation\n",
    "\n",
    "#initialise x = 1.5, with x.dual = 1 to allow for differentiation\n",
    "x = df.Dual(1.5, 1)\n",
    "\n",
    "function = x.sin().log() + x**2 * x.cos() #f(x) = log(sin(x)) + x^2 * cos(x)\n",
    "\n",
    "print(f\"log(sin(x)) + x^2 cos(x) = {function.real}\")\n",
    "print(f\"d/dx(log(sin(x)) + x^2 cos(x)) = {function.dual}\")"
   ]
  },
  {
   "cell_type": "code",
   "execution_count": 9,
   "metadata": {
    "execution": {
     "iopub.execute_input": "2024-12-14T20:11:05.581204Z",
     "iopub.status.busy": "2024-12-14T20:11:05.580853Z",
     "iopub.status.idle": "2024-12-14T20:11:05.584830Z",
     "shell.execute_reply": "2024-12-14T20:11:05.584093Z"
    }
   },
   "outputs": [
    {
     "name": "stdout",
     "output_type": "stream",
     "text": [
      "analytic df/dx = -1.9612372705533612\n",
      "numerical df/dx = -1.9612372706409584\n"
     ]
    }
   ],
   "source": [
    "# comparison to analytic and numerical methods:\n",
    "\n",
    "def f(x):\n",
    "    return np.log(np.sin(x)) + x**2 * np.cos(x)\n",
    "\n",
    "def dfdx(x):\n",
    "    return np.cos(x) / np.sin(x) + 2*x*np.cos(x) - x**2 * np.sin(x)\n",
    "\n",
    "print(f\"analytic df/dx = {dfdx(x=1.5)}\")\n",
    "\n",
    "def central(f, x, h=1e-5):\n",
    "    return (f(x+h) - f(x-h))/(2*h)\n",
    "\n",
    "print(f\"numerical df/dx = {central(f, x=1.5)}\")"
   ]
  }
 ],
 "metadata": {
  "kernelspec": {
   "display_name": "disvenv",
   "language": "python",
   "name": "python3"
  },
  "language_info": {
   "codemirror_mode": {
    "name": "ipython",
    "version": 3
   },
   "file_extension": ".py",
   "mimetype": "text/x-python",
   "name": "python",
   "nbconvert_exporter": "python",
   "pygments_lexer": "ipython3",
   "version": "3.12.3"
  }
 },
 "nbformat": 4,
 "nbformat_minor": 2
}
