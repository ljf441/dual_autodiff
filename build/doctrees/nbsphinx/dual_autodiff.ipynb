{
 "cells": [
  {
   "cell_type": "markdown",
   "metadata": {},
   "source": [
    "# dual_autodiff Tutorial"
   ]
  },
  {
   "cell_type": "code",
   "execution_count": 1,
   "metadata": {
    "execution": {
     "iopub.execute_input": "2024-11-15T00:46:57.440223Z",
     "iopub.status.busy": "2024-11-15T00:46:57.440052Z",
     "iopub.status.idle": "2024-11-15T00:46:57.739161Z",
     "shell.execute_reply": "2024-11-15T00:46:57.738580Z"
    }
   },
   "outputs": [],
   "source": [
    "# import modules\n",
    "\n",
    "import dual_autodiff as df\n",
    "import numpy as np\n",
    "import matplotlib.pyplot as plt"
   ]
  },
  {
   "cell_type": "code",
   "execution_count": 2,
   "metadata": {
    "execution": {
     "iopub.execute_input": "2024-11-15T00:46:57.740639Z",
     "iopub.status.busy": "2024-11-15T00:46:57.740450Z",
     "iopub.status.idle": "2024-11-15T00:46:57.743602Z",
     "shell.execute_reply": "2024-11-15T00:46:57.743229Z"
    }
   },
   "outputs": [
    {
     "name": "stdout",
     "output_type": "stream",
     "text": [
      "x.real = 2, x.dual = 1\n"
     ]
    }
   ],
   "source": [
    "# initialise dual number\n",
    "x = df.Dual(2, 1)\n",
    "print(f\"x.real = {x.real}, x.dual = {x.dual}\")"
   ]
  },
  {
   "cell_type": "code",
   "execution_count": 3,
   "metadata": {
    "execution": {
     "iopub.execute_input": "2024-11-15T00:46:57.762680Z",
     "iopub.status.busy": "2024-11-15T00:46:57.762501Z",
     "iopub.status.idle": "2024-11-15T00:46:57.765411Z",
     "shell.execute_reply": "2024-11-15T00:46:57.764829Z"
    }
   },
   "outputs": [
    {
     "name": "stdout",
     "output_type": "stream",
     "text": [
      "Dual(real=2, dual=1)\n"
     ]
    }
   ],
   "source": [
    "# printing dual number\n",
    "print(x)"
   ]
  },
  {
   "cell_type": "code",
   "execution_count": 4,
   "metadata": {
    "execution": {
     "iopub.execute_input": "2024-11-15T00:46:57.766967Z",
     "iopub.status.busy": "2024-11-15T00:46:57.766841Z",
     "iopub.status.idle": "2024-11-15T00:46:57.770491Z",
     "shell.execute_reply": "2024-11-15T00:46:57.769933Z"
    }
   },
   "outputs": [
    {
     "name": "stdout",
     "output_type": "stream",
     "text": [
      "x + y = Dual(real=5, dual=3)\n",
      "x - y = Dual(real=-1, dual=-1)\n",
      "x * y = Dual(real=6, dual=7)\n",
      "x / y = Dual(real=0.6666666666666666, dual=-0.25)\n"
     ]
    }
   ],
   "source": [
    "# basic arithmetic operations\n",
    "\n",
    "x = df.Dual(2, 1)\n",
    "y = df.Dual(3, 2)\n",
    "\n",
    "print(f\"x + y = {x + y}\")\n",
    "print(f\"x - y = {x - y}\")\n",
    "print(f\"x * y = {x * y}\")\n",
    "print(f\"x / y = {x / y}\")"
   ]
  },
  {
   "cell_type": "code",
   "execution_count": 5,
   "metadata": {
    "execution": {
     "iopub.execute_input": "2024-11-15T00:46:57.771716Z",
     "iopub.status.busy": "2024-11-15T00:46:57.771405Z",
     "iopub.status.idle": "2024-11-15T00:46:57.774232Z",
     "shell.execute_reply": "2024-11-15T00:46:57.773802Z"
    }
   },
   "outputs": [
    {
     "name": "stdout",
     "output_type": "stream",
     "text": [
      "sin(x) = Dual(real=0.9092974268256817, dual=-0.4161468365471424)\n",
      "cos(x) = Dual(real=-0.4161468365471424, dual=-0.9092974268256817)\n",
      "tan(x) = Dual(real=-2.185039863261519, dual=5.774399204041917)\n"
     ]
    }
   ],
   "source": [
    "# trigonometric operations\n",
    "\n",
    "print(f\"sin(x) = {x.sin()}\")\n",
    "print(f\"cos(x) = {x.cos()}\")\n",
    "print(f\"tan(x) = {x.tan()}\")"
   ]
  },
  {
   "cell_type": "code",
   "execution_count": 6,
   "metadata": {
    "execution": {
     "iopub.execute_input": "2024-11-15T00:46:57.775349Z",
     "iopub.status.busy": "2024-11-15T00:46:57.775228Z",
     "iopub.status.idle": "2024-11-15T00:46:57.777843Z",
     "shell.execute_reply": "2024-11-15T00:46:57.777339Z"
    }
   },
   "outputs": [
    {
     "name": "stdout",
     "output_type": "stream",
     "text": [
      "log(x) = Dual(real=0.6931471805599453, dual=0.5)\n",
      "exp(x) = Dual(real=7.38905609893065, dual=7.38905609893065)\n"
     ]
    }
   ],
   "source": [
    "# the natural logarithm and exponential\n",
    "\n",
    "print(f\"log(x) = {x.log()}\")\n",
    "print(f\"exp(x) = {x.exp()}\")"
   ]
  },
  {
   "cell_type": "code",
   "execution_count": 7,
   "metadata": {
    "execution": {
     "iopub.execute_input": "2024-11-15T00:46:57.779150Z",
     "iopub.status.busy": "2024-11-15T00:46:57.779025Z",
     "iopub.status.idle": "2024-11-15T00:46:57.781415Z",
     "shell.execute_reply": "2024-11-15T00:46:57.781007Z"
    }
   },
   "outputs": [
    {
     "name": "stdout",
     "output_type": "stream",
     "text": [
      "x**y = Dual(real=8, dual=35.090354888959126)\n"
     ]
    }
   ],
   "source": [
    "# powers\n",
    "\n",
    "print(f\"x**y = {x**y}\")"
   ]
  },
  {
   "cell_type": "code",
   "execution_count": 8,
   "metadata": {
    "execution": {
     "iopub.execute_input": "2024-11-15T00:46:57.782794Z",
     "iopub.status.busy": "2024-11-15T00:46:57.782462Z",
     "iopub.status.idle": "2024-11-15T00:46:57.785224Z",
     "shell.execute_reply": "2024-11-15T00:46:57.784834Z"
    }
   },
   "outputs": [
    {
     "name": "stdout",
     "output_type": "stream",
     "text": [
      "log(sin(x)) + x^2 cos(x) = 0.15665054756073515\n",
      "d/dx(log(sin(x)) + x^2 cos(x)) = -1.9612372705533612\n"
     ]
    }
   ],
   "source": [
    "# automatic differentiation\n",
    "\n",
    "x = df.Dual(1.5, 1) #initialise x = 1.5, with x.dual = 1 to allow for differentiation\n",
    "\n",
    "function = x.sin().log() + x**2 * x.cos() #f(x) = log(sin(x)) + x^2 * cos(x)\n",
    "\n",
    "print(f\"log(sin(x)) + x^2 cos(x) = {function.real}\")\n",
    "print(f\"d/dx(log(sin(x)) + x^2 cos(x)) = {function.dual}\")"
   ]
  },
  {
   "cell_type": "code",
   "execution_count": 9,
   "metadata": {
    "execution": {
     "iopub.execute_input": "2024-11-15T00:46:57.786466Z",
     "iopub.status.busy": "2024-11-15T00:46:57.786240Z",
     "iopub.status.idle": "2024-11-15T00:46:57.790032Z",
     "shell.execute_reply": "2024-11-15T00:46:57.789627Z"
    }
   },
   "outputs": [
    {
     "name": "stdout",
     "output_type": "stream",
     "text": [
      "analytic df/dx = -1.9612372705533612\n",
      "numerical df/dx = -1.9612372706409584\n"
     ]
    }
   ],
   "source": [
    "# comparison to analytic and numerical methods:\n",
    "\n",
    "def f(x):\n",
    "    return np.log(np.sin(x)) + x**2 * np.cos(x)\n",
    "\n",
    "def df(x):\n",
    "    return np.cos(x) / np.sin(x) + 2*x*np.cos(x) - x**2 * np.sin(x)\n",
    "\n",
    "print(f\"analytic df/dx = {df(x=1.5)}\")\n",
    "\n",
    "def central(f, x, h=1e-5):\n",
    "    return (f(x+h) - f(x-h))/(2*h)\n",
    "\n",
    "print(f\"numerical df/dx = {central(f, x=1.5)}\")"
   ]
  },
  {
   "cell_type": "code",
   "execution_count": 10,
   "metadata": {
    "execution": {
     "iopub.execute_input": "2024-11-15T00:46:57.791200Z",
     "iopub.status.busy": "2024-11-15T00:46:57.790991Z",
     "iopub.status.idle": "2024-11-15T00:46:57.865946Z",
     "shell.execute_reply": "2024-11-15T00:46:57.865327Z"
    }
   },
   "outputs": [
    {
     "ename": "ModuleNotFoundError",
     "evalue": "No module named 'dual_autodiff_x.dual_autodiff_x'",
     "output_type": "error",
     "traceback": [
      "\u001b[0;31m---------------------------------------------------------------------------\u001b[0m",
      "\u001b[0;31mModuleNotFoundError\u001b[0m                       Traceback (most recent call last)",
      "Cell \u001b[0;32mIn[10], line 1\u001b[0m\n\u001b[0;32m----> 1\u001b[0m \u001b[38;5;28;01mimport\u001b[39;00m \u001b[38;5;21;01mdual_autodiff_x\u001b[39;00m\u001b[38;5;21;01m.\u001b[39;00m\u001b[38;5;21;01mdual_autodiff_x\u001b[39;00m \u001b[38;5;28;01mas\u001b[39;00m \u001b[38;5;21;01mdfx\u001b[39;00m\n\u001b[1;32m      2\u001b[0m \u001b[38;5;66;03m# from dual_autodiff_x.dual_autodiff_x import Dual\u001b[39;00m\n\u001b[1;32m      3\u001b[0m \u001b[38;5;28;01mimport\u001b[39;00m \u001b[38;5;21;01mtime\u001b[39;00m\n",
      "\u001b[0;31mModuleNotFoundError\u001b[0m: No module named 'dual_autodiff_x.dual_autodiff_x'"
     ]
    }
   ],
   "source": [
    "import dual_autodiff_x.dual_autodiff_x as dfx\n",
    "# from dual_autodiff_x.dual_autodiff_x import Dual\n",
    "import time"
   ]
  },
  {
   "cell_type": "code",
   "execution_count": 11,
   "metadata": {
    "execution": {
     "iopub.execute_input": "2024-11-15T00:46:57.867570Z",
     "iopub.status.busy": "2024-11-15T00:46:57.867286Z",
     "iopub.status.idle": "2024-11-15T00:46:57.870609Z",
     "shell.execute_reply": "2024-11-15T00:46:57.869785Z"
    }
   },
   "outputs": [],
   "source": [
    "def timer(func, *args):\n",
    "    start = time.time()\n",
    "    func(*args)\n",
    "    end = time.time()\n",
    "    return end - start"
   ]
  },
  {
   "cell_type": "code",
   "execution_count": 12,
   "metadata": {
    "execution": {
     "iopub.execute_input": "2024-11-15T00:46:57.872186Z",
     "iopub.status.busy": "2024-11-15T00:46:57.871944Z",
     "iopub.status.idle": "2024-11-15T00:46:57.874773Z",
     "shell.execute_reply": "2024-11-15T00:46:57.874354Z"
    }
   },
   "outputs": [],
   "source": [
    "def df_tester():\n",
    "    x = df.Dual(2, 1)\n",
    "    y = df.Dual(3, 2)\n",
    "\n",
    "    z1 = x + y\n",
    "    z2 = x - y\n",
    "    z3 = x * y\n",
    "    z4 = x / y\n",
    "    \n",
    "    z5 = x.sin()\n",
    "    z6 = x.cos()\n",
    "    z7 = x.tan()\n",
    "    z8 = x.log()\n",
    "    z9 = x.exp()\n",
    "\n",
    "    z10 = x**y\n",
    "\n",
    "    a = df.Dual(1.5, 1)\n",
    "    b = a.sin().log() + a**2 * a.cos()"
   ]
  },
  {
   "cell_type": "code",
   "execution_count": 13,
   "metadata": {
    "execution": {
     "iopub.execute_input": "2024-11-15T00:46:57.876259Z",
     "iopub.status.busy": "2024-11-15T00:46:57.875889Z",
     "iopub.status.idle": "2024-11-15T00:46:57.889722Z",
     "shell.execute_reply": "2024-11-15T00:46:57.889262Z"
    }
   },
   "outputs": [
    {
     "ename": "NameError",
     "evalue": "name 'dfx' is not defined",
     "output_type": "error",
     "traceback": [
      "\u001b[0;31m---------------------------------------------------------------------------\u001b[0m",
      "\u001b[0;31mNameError\u001b[0m                                 Traceback (most recent call last)",
      "Cell \u001b[0;32mIn[13], line 23\u001b[0m\n\u001b[1;32m     21\u001b[0m     b \u001b[38;5;241m=\u001b[39m a\u001b[38;5;241m.\u001b[39msin()\u001b[38;5;241m.\u001b[39mlog() \u001b[38;5;241m+\u001b[39m a\u001b[38;5;241m*\u001b[39m\u001b[38;5;241m*\u001b[39m\u001b[38;5;241m2\u001b[39m \u001b[38;5;241m*\u001b[39m a\u001b[38;5;241m.\u001b[39mcos()\n\u001b[1;32m     22\u001b[0m     \u001b[38;5;28mprint\u001b[39m(b)\n\u001b[0;32m---> 23\u001b[0m \u001b[43mdfx_tester\u001b[49m\u001b[43m(\u001b[49m\u001b[43m)\u001b[49m\n",
      "Cell \u001b[0;32mIn[13], line 2\u001b[0m, in \u001b[0;36mdfx_tester\u001b[0;34m()\u001b[0m\n\u001b[1;32m      1\u001b[0m \u001b[38;5;28;01mdef\u001b[39;00m \u001b[38;5;21mdfx_tester\u001b[39m():\n\u001b[0;32m----> 2\u001b[0m     x \u001b[38;5;241m=\u001b[39m \u001b[43mdfx\u001b[49m\u001b[38;5;241m.\u001b[39mDual(\u001b[38;5;241m2.\u001b[39m, \u001b[38;5;241m1.\u001b[39m)\n\u001b[1;32m      3\u001b[0m     y \u001b[38;5;241m=\u001b[39m dfx\u001b[38;5;241m.\u001b[39mDual(\u001b[38;5;241m3.\u001b[39m, \u001b[38;5;241m2.\u001b[39m)\n\u001b[1;32m      5\u001b[0m     \u001b[38;5;28mprint\u001b[39m(x)\n",
      "\u001b[0;31mNameError\u001b[0m: name 'dfx' is not defined"
     ]
    }
   ],
   "source": [
    "def dfx_tester():\n",
    "    x = dfx.Dual(2., 1.)\n",
    "    y = dfx.Dual(3., 2.)\n",
    "\n",
    "    print(x)\n",
    "\n",
    "    z1 = x + y\n",
    "    z2 = x - y\n",
    "    z3 = x * y\n",
    "    z4 = x / y\n",
    "    \n",
    "    z5 = x.sin()\n",
    "    z6 = x.cos()\n",
    "    z7 = x.tan()\n",
    "    z8 = x.log()\n",
    "    z9 = x.exp()\n",
    "\n",
    "    z10 = x**y\n",
    "\n",
    "    a = dfx.Dual(1.5, 1)\n",
    "    b = a.sin().log() + a**2 * a.cos()\n",
    "    print(b)\n",
    "dfx_tester()"
   ]
  },
  {
   "cell_type": "code",
   "execution_count": 14,
   "metadata": {
    "execution": {
     "iopub.execute_input": "2024-11-15T00:46:57.891041Z",
     "iopub.status.busy": "2024-11-15T00:46:57.890918Z",
     "iopub.status.idle": "2024-11-15T00:46:57.899770Z",
     "shell.execute_reply": "2024-11-15T00:46:57.899266Z"
    }
   },
   "outputs": [
    {
     "ename": "ModuleNotFoundError",
     "evalue": "No module named 'dual_autodiff_x.dual_autodiff_x'",
     "output_type": "error",
     "traceback": [
      "\u001b[0;31m---------------------------------------------------------------------------\u001b[0m",
      "\u001b[0;31mModuleNotFoundError\u001b[0m                       Traceback (most recent call last)",
      "Cell \u001b[0;32mIn[14], line 3\u001b[0m\n\u001b[1;32m      1\u001b[0m \u001b[38;5;66;03m# test.py\u001b[39;00m\n\u001b[0;32m----> 3\u001b[0m \u001b[38;5;28;01mimport\u001b[39;00m \u001b[38;5;21;01mdual_autodiff_x\u001b[39;00m\u001b[38;5;21;01m.\u001b[39;00m\u001b[38;5;21;01mdual_autodiff_x\u001b[39;00m \u001b[38;5;28;01mas\u001b[39;00m \u001b[38;5;21;01mdfx\u001b[39;00m\n\u001b[1;32m      5\u001b[0m \u001b[38;5;28;01mdef\u001b[39;00m \u001b[38;5;21mdfx_tester\u001b[39m():\n\u001b[1;32m      6\u001b[0m     \u001b[38;5;66;03m# Create two Dual objects\u001b[39;00m\n\u001b[1;32m      7\u001b[0m     x \u001b[38;5;241m=\u001b[39m dfx\u001b[38;5;241m.\u001b[39mDual(\u001b[38;5;241m2.0\u001b[39m, \u001b[38;5;241m1.0\u001b[39m)\n",
      "\u001b[0;31mModuleNotFoundError\u001b[0m: No module named 'dual_autodiff_x.dual_autodiff_x'"
     ]
    }
   ],
   "source": [
    "# test.py\n",
    "\n",
    "import dual_autodiff_x.dual_autodiff_x as dfx\n",
    "\n",
    "def dfx_tester():\n",
    "    # Create two Dual objects\n",
    "    x = dfx.Dual(2.0, 1.0)\n",
    "    y = dfx.Dual(3.0, 2.0)\n",
    "\n",
    "    # Print the real and dual parts directly\n",
    "    print(f\"x.real = {x.real}, x.dual = {x.dual}\")  # Access attributes directly\n",
    "    print(f\"y.real = {y.real}, y.dual = {y.dual}\")  # Access attributes directly\n",
    "\n",
    "    # Perform operations\n",
    "    z1 = x + y\n",
    "    z2 = x - y\n",
    "    z3 = x * y\n",
    "\n",
    "    # Print the results\n",
    "    print(f\"z1 = {z1}, z2 = {z2}, z3 = {z3}\")\n",
    "\n",
    "# Run the test\n",
    "dfx_tester()\n"
   ]
  },
  {
   "cell_type": "code",
   "execution_count": 15,
   "metadata": {
    "execution": {
     "iopub.execute_input": "2024-11-15T00:46:57.900959Z",
     "iopub.status.busy": "2024-11-15T00:46:57.900835Z",
     "iopub.status.idle": "2024-11-15T00:46:57.910180Z",
     "shell.execute_reply": "2024-11-15T00:46:57.909740Z"
    }
   },
   "outputs": [
    {
     "ename": "AttributeError",
     "evalue": "'function' object has no attribute 'Dual'",
     "output_type": "error",
     "traceback": [
      "\u001b[0;31m---------------------------------------------------------------------------\u001b[0m",
      "\u001b[0;31mAttributeError\u001b[0m                            Traceback (most recent call last)",
      "Cell \u001b[0;32mIn[15], line 6\u001b[0m\n\u001b[1;32m      3\u001b[0m cython \u001b[38;5;241m=\u001b[39m []\n\u001b[1;32m      5\u001b[0m \u001b[38;5;28;01mfor\u001b[39;00m n \u001b[38;5;129;01min\u001b[39;00m N:\n\u001b[0;32m----> 6\u001b[0m     x \u001b[38;5;241m=\u001b[39m \u001b[43mdf\u001b[49m\u001b[38;5;241;43m.\u001b[39;49m\u001b[43mDual\u001b[49m(np\u001b[38;5;241m.\u001b[39mrandom\u001b[38;5;241m.\u001b[39mrand(), np\u001b[38;5;241m.\u001b[39mrandom\u001b[38;5;241m.\u001b[39mrand())\n\u001b[1;32m      7\u001b[0m     p \u001b[38;5;241m=\u001b[39m timer(\u001b[38;5;28;01mlambda\u001b[39;00m:[x\u001b[38;5;241m*\u001b[39mx \u001b[38;5;28;01mfor\u001b[39;00m _ \u001b[38;5;129;01min\u001b[39;00m \u001b[38;5;28mrange\u001b[39m(n)])\n\u001b[1;32m      8\u001b[0m     python\u001b[38;5;241m.\u001b[39mappend(p)\n",
      "\u001b[0;31mAttributeError\u001b[0m: 'function' object has no attribute 'Dual'"
     ]
    }
   ],
   "source": [
    "N = np.arange(10, 10000, 10)\n",
    "python = []\n",
    "cython = []\n",
    "\n",
    "for n in N:\n",
    "    x = df.Dual(np.random.rand(), np.random.rand())\n",
    "    p = timer(lambda:[x*x for _ in range(n)])\n",
    "    python.append(p)\n",
    "\n",
    "    y = dfx.Dual(np.random.rand(), np.random.rand())\n",
    "    c = timer(lambda:[y*y for _ in range(n)])\n",
    "    cython.append(c)"
   ]
  },
  {
   "cell_type": "code",
   "execution_count": null,
   "metadata": {},
   "outputs": [],
   "source": []
  }
 ],
 "metadata": {
  "kernelspec": {
   "display_name": "disvenv",
   "language": "python",
   "name": "python3"
  },
  "language_info": {
   "codemirror_mode": {
    "name": "ipython",
    "version": 3
   },
   "file_extension": ".py",
   "mimetype": "text/x-python",
   "name": "python",
   "nbconvert_exporter": "python",
   "pygments_lexer": "ipython3",
   "version": "3.12.3"
  }
 },
 "nbformat": 4,
 "nbformat_minor": 2
}
