{
 "cells": [
  {
   "cell_type": "markdown",
   "metadata": {},
   "source": [
    "# dual_autodiff Tutorial"
   ]
  },
  {
   "cell_type": "code",
   "execution_count": 1,
   "metadata": {
    "execution": {
     "iopub.execute_input": "2024-12-18T17:08:29.585569Z",
     "iopub.status.busy": "2024-12-18T17:08:29.585308Z",
     "iopub.status.idle": "2024-12-18T17:08:30.114676Z",
     "shell.execute_reply": "2024-12-18T17:08:30.114118Z"
    }
   },
   "outputs": [],
   "source": [
    "# import modules\n",
    "\n",
    "import dual_autodiff as df\n",
    "import numpy as np\n",
    "import matplotlib.pyplot as plt"
   ]
  },
  {
   "cell_type": "code",
   "execution_count": 2,
   "metadata": {
    "execution": {
     "iopub.execute_input": "2024-12-18T17:08:30.116453Z",
     "iopub.status.busy": "2024-12-18T17:08:30.116047Z",
     "iopub.status.idle": "2024-12-18T17:08:30.119266Z",
     "shell.execute_reply": "2024-12-18T17:08:30.118778Z"
    }
   },
   "outputs": [
    {
     "name": "stdout",
     "output_type": "stream",
     "text": [
      "x.real = 2, x.dual = 1\n"
     ]
    }
   ],
   "source": [
    "# initialise dual number\n",
    "x = df.Dual(2, 1)\n",
    "print(f\"x.real = {x.real}, x.dual = {x.dual}\")"
   ]
  },
  {
   "cell_type": "code",
   "execution_count": 3,
   "metadata": {
    "execution": {
     "iopub.execute_input": "2024-12-18T17:08:30.163420Z",
     "iopub.status.busy": "2024-12-18T17:08:30.163014Z",
     "iopub.status.idle": "2024-12-18T17:08:30.165802Z",
     "shell.execute_reply": "2024-12-18T17:08:30.165261Z"
    }
   },
   "outputs": [
    {
     "name": "stdout",
     "output_type": "stream",
     "text": [
      "Dual(real=2, dual=1)\n"
     ]
    }
   ],
   "source": [
    "# printing dual number\n",
    "print(x)"
   ]
  },
  {
   "cell_type": "code",
   "execution_count": 4,
   "metadata": {
    "execution": {
     "iopub.execute_input": "2024-12-18T17:08:30.167123Z",
     "iopub.status.busy": "2024-12-18T17:08:30.166880Z",
     "iopub.status.idle": "2024-12-18T17:08:30.170580Z",
     "shell.execute_reply": "2024-12-18T17:08:30.170205Z"
    }
   },
   "outputs": [
    {
     "name": "stdout",
     "output_type": "stream",
     "text": [
      "x + y = Dual(real=5, dual=3)\n",
      "x - y = Dual(real=-1, dual=-1)\n",
      "x * y = Dual(real=6, dual=7)\n",
      "x / y = Dual(real=0.6666666666666666, dual=-0.25)\n"
     ]
    }
   ],
   "source": [
    "# basic arithmetic operations\n",
    "\n",
    "x = df.Dual(2, 1)\n",
    "y = df.Dual(3, 2)\n",
    "\n",
    "print(f\"x + y = {x + y}\")\n",
    "print(f\"x - y = {x - y}\")\n",
    "print(f\"x * y = {x * y}\")\n",
    "print(f\"x / y = {x / y}\")"
   ]
  },
  {
   "cell_type": "code",
   "execution_count": 5,
   "metadata": {
    "execution": {
     "iopub.execute_input": "2024-12-18T17:08:30.171806Z",
     "iopub.status.busy": "2024-12-18T17:08:30.171635Z",
     "iopub.status.idle": "2024-12-18T17:08:30.174928Z",
     "shell.execute_reply": "2024-12-18T17:08:30.174577Z"
    }
   },
   "outputs": [
    {
     "name": "stdout",
     "output_type": "stream",
     "text": [
      "sin(x) = Dual(real=0.9092974268256817, dual=-0.4161468365471424)\n",
      "cos(x) = Dual(real=-0.4161468365471424, dual=-0.9092974268256817)\n",
      "tan(x) = Dual(real=-2.185039863261519, dual=5.774399204041917)\n"
     ]
    }
   ],
   "source": [
    "# trigonometric operations\n",
    "\n",
    "print(f\"sin(x) = {x.sin()}\")\n",
    "print(f\"cos(x) = {x.cos()}\")\n",
    "print(f\"tan(x) = {x.tan()}\")"
   ]
  },
  {
   "cell_type": "code",
   "execution_count": 6,
   "metadata": {
    "execution": {
     "iopub.execute_input": "2024-12-18T17:08:30.176238Z",
     "iopub.status.busy": "2024-12-18T17:08:30.175935Z",
     "iopub.status.idle": "2024-12-18T17:08:30.178380Z",
     "shell.execute_reply": "2024-12-18T17:08:30.178007Z"
    }
   },
   "outputs": [
    {
     "name": "stdout",
     "output_type": "stream",
     "text": [
      "log(x) = Dual(real=0.6931471805599453, dual=0.5)\n",
      "exp(x) = Dual(real=7.38905609893065, dual=7.38905609893065)\n"
     ]
    }
   ],
   "source": [
    "# the natural logarithm and exponential\n",
    "\n",
    "print(f\"log(x) = {x.log()}\")\n",
    "print(f\"exp(x) = {x.exp()}\")"
   ]
  },
  {
   "cell_type": "code",
   "execution_count": 7,
   "metadata": {
    "execution": {
     "iopub.execute_input": "2024-12-18T17:08:30.179382Z",
     "iopub.status.busy": "2024-12-18T17:08:30.179199Z",
     "iopub.status.idle": "2024-12-18T17:08:30.181349Z",
     "shell.execute_reply": "2024-12-18T17:08:30.180984Z"
    }
   },
   "outputs": [
    {
     "name": "stdout",
     "output_type": "stream",
     "text": [
      "x**y = Dual(real=8, dual=35.090354888959126)\n"
     ]
    }
   ],
   "source": [
    "# powers\n",
    "\n",
    "print(f\"x**y = {x**y}\")"
   ]
  },
  {
   "cell_type": "code",
   "execution_count": 8,
   "metadata": {
    "execution": {
     "iopub.execute_input": "2024-12-18T17:08:30.182506Z",
     "iopub.status.busy": "2024-12-18T17:08:30.182310Z",
     "iopub.status.idle": "2024-12-18T17:08:30.184852Z",
     "shell.execute_reply": "2024-12-18T17:08:30.184453Z"
    }
   },
   "outputs": [
    {
     "name": "stdout",
     "output_type": "stream",
     "text": [
      "log(sin(x)) + x^2 cos(x) = 0.15665054756073515\n",
      "d/dx(log(sin(x)) + x^2 cos(x)) = -1.9612372705533612\n"
     ]
    }
   ],
   "source": [
    "# automatic differentiation\n",
    "\n",
    "#initialise x = 1.5, with x.dual = 1 to allow for differentiation\n",
    "x = df.Dual(1.5, 1)\n",
    "\n",
    "function = x.sin().log() + x**2 * x.cos() #f(x) = log(sin(x)) + x^2 * cos(x)\n",
    "\n",
    "print(f\"log(sin(x)) + x^2 cos(x) = {function.real}\")\n",
    "print(f\"d/dx(log(sin(x)) + x^2 cos(x)) = {function.dual}\")"
   ]
  },
  {
   "cell_type": "code",
   "execution_count": 9,
   "metadata": {
    "execution": {
     "iopub.execute_input": "2024-12-18T17:08:30.185878Z",
     "iopub.status.busy": "2024-12-18T17:08:30.185679Z",
     "iopub.status.idle": "2024-12-18T17:08:30.189980Z",
     "shell.execute_reply": "2024-12-18T17:08:30.189608Z"
    }
   },
   "outputs": [
    {
     "name": "stdout",
     "output_type": "stream",
     "text": [
      "analytic df/dx = -1.9612372705533612\n",
      "numerical df/dx = -1.9612372706409584\n"
     ]
    }
   ],
   "source": [
    "# comparison to analytic and numerical methods:\n",
    "\n",
    "def f(x):\n",
    "    return np.log(np.sin(x)) + x**2 * np.cos(x)\n",
    "\n",
    "def dfdx(x):\n",
    "    return np.cos(x) / np.sin(x) + 2*x*np.cos(x) - x**2 * np.sin(x)\n",
    "\n",
    "print(f\"analytic df/dx = {dfdx(x=1.5)}\")\n",
    "\n",
    "def central(f, x, h=1e-5):\n",
    "    return (f(x+h) - f(x-h))/(2*h)\n",
    "\n",
    "print(f\"numerical df/dx = {central(f, x=1.5)}\")"
   ]
  },
  {
   "cell_type": "code",
   "execution_count": 10,
   "metadata": {
    "execution": {
     "iopub.execute_input": "2024-12-18T17:08:30.191118Z",
     "iopub.status.busy": "2024-12-18T17:08:30.190938Z",
     "iopub.status.idle": "2024-12-18T17:08:30.356213Z",
     "shell.execute_reply": "2024-12-18T17:08:30.355760Z"
    }
   },
   "outputs": [
    {
     "name": "stderr",
     "output_type": "stream",
     "text": [
      "/tmp/ipykernel_96236/4225073733.py:1: UserWarning: No artists with labels found to put in legend.  Note that artists whose label start with an underscore are ignored when legend() is called with no argument.\n",
      "  plt.legend(fontsize=12)\n"
     ]
    },
    {
     "data": {
      "text/plain": [
       "<matplotlib.legend.Legend at 0x7f908e86bc20>"
      ]
     },
     "execution_count": 10,
     "metadata": {},
     "output_type": "execute_result"
    },
    {
     "data": {
      "image/png": "[encoded data removed]",
      "text/plain": [
       "<Figure size 640x480 with 1 Axes>"
      ]
     },
     "metadata": {},
     "output_type": "display_data"
    }
   ],
   "source": [
    "plt.legend(fontsize=12)"
   ]
  }
 ],
 "metadata": {
  "kernelspec": {
   "display_name": "disvenv",
   "language": "python",
   "name": "python3"
  },
  "language_info": {
   "codemirror_mode": {
    "name": "ipython",
    "version": 3
   },
   "file_extension": ".py",
   "mimetype": "text/x-python",
   "name": "python",
   "nbconvert_exporter": "python",
   "pygments_lexer": "ipython3",
   "version": "3.12.3"
  }
 },
 "nbformat": 4,
 "nbformat_minor": 2
}
