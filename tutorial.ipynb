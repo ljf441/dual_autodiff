{
 "cells": [
  {
   "cell_type": "code",
   "execution_count": 14,
   "id": "01595601-f948-4f28-bb8e-08a4e3d50e60",
   "metadata": {},
   "outputs": [],
   "source": [
    "import dual_autodiff as df\n",
    "import numpy as np"
   ]
  },
  {
   "cell_type": "code",
   "execution_count": 15,
   "id": "e8e73ccf-a328-49f8-931a-19c65eabc291",
   "metadata": {},
   "outputs": [
    {
     "name": "stdout",
     "output_type": "stream",
     "text": [
      "x.real = 2, x.dual = 1\n"
     ]
    }
   ],
   "source": [
    "x = df.Dual(2, 1)\n",
    "print(f\"x.real = {x.real}, x.dual = {x.dual}\")"
   ]
  },
  {
   "cell_type": "code",
   "execution_count": 16,
   "id": "9837aebf-675c-41ee-8851-d01fddaeb0a2",
   "metadata": {},
   "outputs": [
    {
     "name": "stdout",
     "output_type": "stream",
     "text": [
      "x + y = Dual(real=5, dual=3)\n",
      "x - y = Dual(real=-1, dual=-1)\n",
      "x * y = Dual(real=6, dual=7)\n",
      "x / y = Dual(real=0.6666666666666666, dual=-0.25)\n"
     ]
    }
   ],
   "source": [
    "x = df.Dual(2, 1)\n",
    "y = df.Dual(3, 2)\n",
    "print(f\"x + y = {x + y}\")\n",
    "print(f\"x - y = {x - y}\")\n",
    "print(f\"x * y = {x * y}\")\n",
    "print(f\"x / y = {x / y}\")"
   ]
  },
  {
   "cell_type": "code",
   "execution_count": 17,
   "id": "43e28c99-f3c3-4ebb-b634-694f30947f8b",
   "metadata": {},
   "outputs": [
    {
     "name": "stdout",
     "output_type": "stream",
     "text": [
      "sin(x) = Dual(real=0.9092974268256817, dual=-0.4161468365471424)\n",
      "cos(x) = Dual(real=-0.4161468365471424, dual=-0.9092974268256817)\n",
      "tan(x) = Dual(real=-2.185039863261519, dual=5.774399204041917)\n",
      "log(x) = Dual(real=0.6931471805599453, dual=0.5)\n",
      "exp(x) = Dual(real=7.38905609893065, dual=7.38905609893065)\n"
     ]
    }
   ],
   "source": [
    "print(f\"sin(x) = {x.sin()}\")\n",
    "print(f\"cos(x) = {x.cos()}\")\n",
    "print(f\"tan(x) = {x.tan()}\")\n",
    "print(f\"log(x) = {x.log()}\")\n",
    "print(f\"exp(x) = {x.exp()}\")"
   ]
  },
  {
   "cell_type": "code",
   "execution_count": 18,
   "id": "d2b0f385-76ec-4168-9179-3da1f5bfe7da",
   "metadata": {},
   "outputs": [
    {
     "name": "stdout",
     "output_type": "stream",
     "text": [
      "x**y = Dual(real=8, dual=35.090354888959126)\n"
     ]
    }
   ],
   "source": [
    "print(f\"x**y = {x**y}\")"
   ]
  },
  {
   "cell_type": "code",
   "execution_count": 19,
   "id": "c570bf58-4219-4652-aaab-bb28f837f1f9",
   "metadata": {},
   "outputs": [
    {
     "name": "stdout",
     "output_type": "stream",
     "text": [
      "log(sin(x)) + x^2 cos(x) = Dual(real=0.15665054756073515, dual=-1.9612372705533612)\n",
      "log(sin(x)) + x^2 cos(x) = Dual(real=0.15665054756073515, dual=-1.9612372705533612)\n"
     ]
    }
   ],
   "source": [
    "x = df.Dual(1.5, 1)\n",
    "function = x.sin().log() + x**2 * x.cos()\n",
    "y = df.Dual.log(df.Dual.sin(x)) + x**2 * df.Dual.cos(x)\n",
    "print(f\"log(sin(x)) + x^2 cos(x) = {function}\")\n",
    "print(f\"log(sin(x)) + x^2 cos(x) = {y}\")"
   ]
  },
  {
   "cell_type": "code",
   "execution_count": 20,
   "id": "43856ea1",
   "metadata": {},
   "outputs": [
    {
     "name": "stdout",
     "output_type": "stream",
     "text": [
      "log(sin(x)) + x^2 cos(x) = 0.15665054756073515\n",
      "df/dx = -1.9612372705533612\n"
     ]
    }
   ],
   "source": [
    "def f(x):\n",
    "    return np.log(np.sin(x)) + x**2 * np.cos(x)\n",
    "\n",
    "def df(x):\n",
    "    return np.cos(x) / np.sin(x) + 2*x*np.cos(x) - x**2 * np.sin(x)\n",
    "\n",
    "print(f\"log(sin(x)) + x^2 cos(x) = {f(x=1.5)}\")\n",
    "print(f\"df/dx = {df(x=1.5)}\")"
   ]
  },
  {
   "cell_type": "code",
   "execution_count": 21,
   "id": "691bde30",
   "metadata": {},
   "outputs": [
    {
     "name": "stdout",
     "output_type": "stream",
     "text": [
      "df/dx = -1.9612372706409584\n"
     ]
    }
   ],
   "source": [
    "def central(f, x, h=1e-5):\n",
    "    return (f(x+h) - f(x-h))/(2*h)\n",
    "\n",
    "print(f\"df/dx = {central(f, x=1.5)}\")"
   ]
  },
  {
   "cell_type": "code",
   "execution_count": null,
   "id": "57773896",
   "metadata": {},
   "outputs": [],
   "source": []
  }
 ],
 "metadata": {
  "kernelspec": {
   "display_name": "disvenv",
   "language": "python",
   "name": "python3"
  },
  "language_info": {
   "codemirror_mode": {
    "name": "ipython",
    "version": 3
   },
   "file_extension": ".py",
   "mimetype": "text/x-python",
   "name": "python",
   "nbconvert_exporter": "python",
   "pygments_lexer": "ipython3",
   "version": "3.12.3"
  }
 },
 "nbformat": 4,
 "nbformat_minor": 5
}
