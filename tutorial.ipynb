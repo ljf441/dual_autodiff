{
 "cells": [
  {
   "cell_type": "code",
   "execution_count": 1,
   "id": "885fe1d8-8de0-48b0-8776-3b908bf3c35a",
   "metadata": {},
   "outputs": [],
   "source": [
    "from dual_autodiff import Dual"
   ]
  },
  {
   "cell_type": "code",
   "execution_count": 4,
   "id": "01595601-f948-4f28-bb8e-08a4e3d50e60",
   "metadata": {},
   "outputs": [],
   "source": [
    "x = Dual(1, 3)\n",
    "y = Dual(2, 2)"
   ]
  },
  {
   "cell_type": "code",
   "execution_count": 3,
   "id": "e8e73ccf-a328-49f8-931a-19c65eabc291",
   "metadata": {},
   "outputs": [
    {
     "name": "stdout",
     "output_type": "stream",
     "text": [
      "1 3\n"
     ]
    }
   ],
   "source": [
    "print(x.real, x.dual)"
   ]
  },
  {
   "cell_type": "code",
   "execution_count": 8,
   "id": "9837aebf-675c-41ee-8851-d01fddaeb0a2",
   "metadata": {},
   "outputs": [],
   "source": [
    "c = x+y"
   ]
  },
  {
   "cell_type": "code",
   "execution_count": 9,
   "id": "43e28c99-f3c3-4ebb-b634-694f30947f8b",
   "metadata": {},
   "outputs": [
    {
     "name": "stdout",
     "output_type": "stream",
     "text": [
      "<dual_autodiff.dual.Dual object at 0x7fa1054757f0>\n"
     ]
    }
   ],
   "source": [
    "print(c)"
   ]
  },
  {
   "cell_type": "code",
   "execution_count": 11,
   "id": "d2b0f385-76ec-4168-9179-3da1f5bfe7da",
   "metadata": {},
   "outputs": [
    {
     "ename": "AttributeError",
     "evalue": "'Dual' object has no attribute 'cos'",
     "output_type": "error",
     "traceback": [
      "\u001b[0;31m---------------------------------------------------------------------------\u001b[0m",
      "\u001b[0;31mAttributeError\u001b[0m                            Traceback (most recent call last)",
      "Cell \u001b[0;32mIn[11], line 1\u001b[0m\n\u001b[0;32m----> 1\u001b[0m \u001b[38;5;28mprint\u001b[39m(\u001b[43mx\u001b[49m\u001b[38;5;241;43m.\u001b[39;49m\u001b[43mcos\u001b[49m)\n",
      "\u001b[0;31mAttributeError\u001b[0m: 'Dual' object has no attribute 'cos'"
     ]
    }
   ],
   "source": [
    "print(x.cos)"
   ]
  },
  {
   "cell_type": "code",
   "execution_count": null,
   "id": "c570bf58-4219-4652-aaab-bb28f837f1f9",
   "metadata": {},
   "outputs": [],
   "source": []
  }
 ],
 "metadata": {
  "kernelspec": {
   "display_name": "Python 3 (ipykernel)",
   "language": "python",
   "name": "python3"
  },
  "language_info": {
   "codemirror_mode": {
    "name": "ipython",
    "version": 3
   },
   "file_extension": ".py",
   "mimetype": "text/x-python",
   "name": "python",
   "nbconvert_exporter": "python",
   "pygments_lexer": "ipython3",
   "version": "3.12.3"
  }
 },
 "nbformat": 4,
 "nbformat_minor": 5
}
